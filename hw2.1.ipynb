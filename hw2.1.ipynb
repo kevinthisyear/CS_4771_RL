{
 "cells": [
  {
   "metadata": {
    "ExecuteTime": {
     "end_time": "2025-10-19T17:30:45.075066Z",
     "start_time": "2025-10-19T17:30:45.067016Z"
    }
   },
   "cell_type": "code",
   "source": [
    "import numpy as np\n",
    "import matplotlib.pyplot as plt\n",
    "from matplotlib.table import Table\n",
    "\n",
    "# env\n",
    "class Gridworld:\n",
    "    def __init__(self, size=5, gamma=0.9):\n",
    "        self.size = size\n",
    "        self.gamma = gamma\n",
    "        self.A = [0, 1]\n",
    "        self.A_prime = [4, 1]\n",
    "        self.B = [0, 3]\n",
    "        self.B_prime = [2, 3]\n",
    "        self.actions = [\n",
    "            np.array([0, -1]),\n",
    "            np.array([-1, 0]),\n",
    "            np.array([0, 1]),\n",
    "            np.array([1, 0])\n",
    "        ]\n",
    "        self.action_prob = 0.25\n",
    "\n",
    "    # compute next state and reward given a state/action\n",
    "    def step(self, state, action):\n",
    "        if state == self.A:\n",
    "            return self.A_prime, 10        # a -> a'\n",
    "        if state == self.B:\n",
    "            return self.B_prime, 5         # b -> b'\n",
    "\n",
    "        next_state = (np.array(state) + action).tolist()\n",
    "        x, y = next_state\n",
    "        if x < 0 or x >= self.size or y < 0 or y >= self.size:\n",
    "            return state, -1.0\n",
    "        return next_state, 0               # normal move -> no reward\n",
    "\n",
    "\n",
    "# algorithm\n",
    "def value_iteration(env, tol=1e-4):\n",
    "    V = np.zeros((env.size, env.size))     # initialize\n",
    "    while True:\n",
    "        new_V = np.zeros_like(V)\n",
    "        for i in range(env.size):\n",
    "            for j in range(env.size):\n",
    "                for action in env.actions:\n",
    "                    (ni, nj), reward = env.step([i, j], action)\n",
    "                    new_V[i, j] += env.action_prob * (\n",
    "                        reward + env.gamma * V[ni, nj]\n",
    "                    )\n",
    "        # stop when values converge\n",
    "        if np.sum(np.abs(V - new_V)) < tol:\n",
    "            return new_V\n",
    "        V = new_V"
   ],
   "id": "4b3fc9621233b797",
   "outputs": [],
   "execution_count": 59
  },
  {
   "metadata": {
    "ExecuteTime": {
     "end_time": "2025-10-19T17:30:45.131473Z",
     "start_time": "2025-10-19T17:30:45.089213Z"
    }
   },
   "cell_type": "code",
   "source": [
    "def figure3_2(values):\n",
    "    fig, ax = plt.subplots()\n",
    "    ax.set_axis_off()\n",
    "    table = Table(ax, bbox=[0, 0, 1, 1])\n",
    "    nrows, ncols = values.shape\n",
    "    width, height = 1.0 / ncols, 1.0 / nrows\n",
    "    for (i, j), val in np.ndenumerate(values):\n",
    "        table.add_cell(i, j, width, height,\n",
    "                       text=np.round(val, 1),\n",
    "                       loc='center', facecolor='white')\n",
    "    ax.add_table(table)\n",
    "    plt.show()\n",
    "\n",
    "figure3_2(value_iteration(Gridworld()))\n",
    "# matches right plot with numbers"
   ],
   "id": "ea670e9cec0ea383",
   "outputs": [
    {
     "data": {
      "text/plain": [
       "<Figure size 640x480 with 1 Axes>"
      ],
      "image/png": "[encoded data removed]"
     },
     "metadata": {},
     "output_type": "display_data"
    }
   ],
   "execution_count": 60
  }
 ],
 "metadata": {
  "kernelspec": {
   "display_name": "Python 3",
   "language": "python",
   "name": "python3"
  },
  "language_info": {
   "codemirror_mode": {
    "name": "ipython",
    "version": 2
   },
   "file_extension": ".py",
   "mimetype": "text/x-python",
   "name": "python",
   "nbconvert_exporter": "python",
   "pygments_lexer": "ipython2",
   "version": "2.7.6"
  }
 },
 "nbformat": 4,
 "nbformat_minor": 5
}
